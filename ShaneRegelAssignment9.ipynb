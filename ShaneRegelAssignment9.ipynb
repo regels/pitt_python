{
 "cells": [
  {
   "cell_type": "code",
   "execution_count": 71,
   "metadata": {},
   "outputs": [],
   "source": [
    "#pandas and numpy\n",
    "import pandas as pd\n",
    "import numpy as np\n",
    "\n",
    "#Scikit stuff\n",
    "from sklearn.model_selection import train_test_split\n",
    "from sklearn.metrics import confusion_matrix, classification_report, precision_score, \\\n",
    "                            accuracy_score, roc_curve, roc_auc_score\n",
    "from sklearn.naive_bayes import MultinomialNB, ComplementNB\n",
    "import scikitplot as skplt\n",
    "\n",
    "#for plots\n",
    "import matplotlib.pylab as plt\n",
    "%matplotlib inline\n",
    "import seaborn as sns\n",
    "\n",
    "#DMBA book utility tools\n",
    "from dmba import classificationSummary, gainsChart, liftChart"
   ]
  },
  {
   "cell_type": "code",
   "execution_count": 72,
   "metadata": {},
   "outputs": [
    {
     "data": {
      "text/plain": [
       "(89565, 440)"
      ]
     },
     "execution_count": 72,
     "metadata": {},
     "output_type": "execute_result"
    }
   ],
   "source": [
    "pd.set_option(\"display.max_columns\", None)\n",
    "wv = pd.read_csv(\"worldvalues-data.csv\", dtype='object', na_values = ['-5', '-4', '-3', '-2', '-1'])\n",
    "wv.shape"
   ]
  },
  {
   "cell_type": "code",
   "execution_count": 73,
   "metadata": {},
   "outputs": [
    {
     "data": {
      "text/html": [
       "<div>\n",
       "<style scoped>\n",
       "    .dataframe tbody tr th:only-of-type {\n",
       "        vertical-align: middle;\n",
       "    }\n",
       "\n",
       "    .dataframe tbody tr th {\n",
       "        vertical-align: top;\n",
       "    }\n",
       "\n",
       "    .dataframe thead th {\n",
       "        text-align: right;\n",
       "    }\n",
       "</style>\n",
       "<table border=\"1\" class=\"dataframe\">\n",
       "  <thead>\n",
       "    <tr style=\"text-align: right;\">\n",
       "      <th></th>\n",
       "      <th>V55</th>\n",
       "      <th>V58</th>\n",
       "      <th>V95</th>\n",
       "      <th>V145</th>\n",
       "      <th>V229</th>\n",
       "      <th>V246</th>\n",
       "    </tr>\n",
       "  </thead>\n",
       "  <tbody>\n",
       "    <tr>\n",
       "      <th>count</th>\n",
       "      <td>88117</td>\n",
       "      <td>87898</td>\n",
       "      <td>68199</td>\n",
       "      <td>84720</td>\n",
       "      <td>88038</td>\n",
       "      <td>89558</td>\n",
       "    </tr>\n",
       "    <tr>\n",
       "      <th>unique</th>\n",
       "      <td>10</td>\n",
       "      <td>9</td>\n",
       "      <td>10</td>\n",
       "      <td>7</td>\n",
       "      <td>8</td>\n",
       "      <td>5</td>\n",
       "    </tr>\n",
       "    <tr>\n",
       "      <th>top</th>\n",
       "      <td>8</td>\n",
       "      <td>No children</td>\n",
       "      <td>5</td>\n",
       "      <td>7</td>\n",
       "      <td>Full time</td>\n",
       "      <td>1</td>\n",
       "    </tr>\n",
       "    <tr>\n",
       "      <th>freq</th>\n",
       "      <td>16646</td>\n",
       "      <td>26142</td>\n",
       "      <td>19838</td>\n",
       "      <td>20631</td>\n",
       "      <td>28036</td>\n",
       "      <td>79300</td>\n",
       "    </tr>\n",
       "  </tbody>\n",
       "</table>\n",
       "</div>"
      ],
      "text/plain": [
       "          V55          V58    V95   V145       V229   V246\n",
       "count   88117        87898  68199  84720      88038  89558\n",
       "unique     10            9     10      7          8      5\n",
       "top         8  No children      5      7  Full time      1\n",
       "freq    16646        26142  19838  20631      28036  79300"
      ]
     },
     "execution_count": 73,
     "metadata": {},
     "output_type": "execute_result"
    }
   ],
   "source": [
    "wv = wv[[\"V55\", \"V58\", \"V95\", \"V145\", \"V229\", \"V246\"]]\n",
    "wv.describe()"
   ]
  },
  {
   "cell_type": "code",
   "execution_count": 74,
   "metadata": {},
   "outputs": [
    {
     "data": {
      "text/html": [
       "<div>\n",
       "<style scoped>\n",
       "    .dataframe tbody tr th:only-of-type {\n",
       "        vertical-align: middle;\n",
       "    }\n",
       "\n",
       "    .dataframe tbody tr th {\n",
       "        vertical-align: top;\n",
       "    }\n",
       "\n",
       "    .dataframe thead th {\n",
       "        text-align: right;\n",
       "    }\n",
       "</style>\n",
       "<table border=\"1\" class=\"dataframe\">\n",
       "  <thead>\n",
       "    <tr style=\"text-align: right;\">\n",
       "      <th></th>\n",
       "      <th>V55</th>\n",
       "      <th>V58</th>\n",
       "      <th>V95</th>\n",
       "      <th>V145</th>\n",
       "      <th>V229</th>\n",
       "      <th>V246</th>\n",
       "    </tr>\n",
       "  </thead>\n",
       "  <tbody>\n",
       "    <tr>\n",
       "      <th>15</th>\n",
       "      <td>7</td>\n",
       "      <td>1</td>\n",
       "      <td>5</td>\n",
       "      <td>2</td>\n",
       "      <td>1</td>\n",
       "      <td>1</td>\n",
       "    </tr>\n",
       "    <tr>\n",
       "      <th>16</th>\n",
       "      <td>7</td>\n",
       "      <td>1</td>\n",
       "      <td>5</td>\n",
       "      <td>2</td>\n",
       "      <td>1</td>\n",
       "      <td>1</td>\n",
       "    </tr>\n",
       "    <tr>\n",
       "      <th>17</th>\n",
       "      <td>7</td>\n",
       "      <td>2</td>\n",
       "      <td>5</td>\n",
       "      <td>2</td>\n",
       "      <td>5</td>\n",
       "      <td>1</td>\n",
       "    </tr>\n",
       "    <tr>\n",
       "      <th>18</th>\n",
       "      <td>7</td>\n",
       "      <td>0</td>\n",
       "      <td>7</td>\n",
       "      <td>2</td>\n",
       "      <td>1</td>\n",
       "      <td>1</td>\n",
       "    </tr>\n",
       "    <tr>\n",
       "      <th>19</th>\n",
       "      <td>7</td>\n",
       "      <td>3</td>\n",
       "      <td>6</td>\n",
       "      <td>2</td>\n",
       "      <td>5</td>\n",
       "      <td>1</td>\n",
       "    </tr>\n",
       "    <tr>\n",
       "      <th>20</th>\n",
       "      <td>5</td>\n",
       "      <td>0</td>\n",
       "      <td>NaN</td>\n",
       "      <td>7</td>\n",
       "      <td>6</td>\n",
       "      <td>1</td>\n",
       "    </tr>\n",
       "    <tr>\n",
       "      <th>21</th>\n",
       "      <td>1</td>\n",
       "      <td>0</td>\n",
       "      <td>NaN</td>\n",
       "      <td>7</td>\n",
       "      <td>7</td>\n",
       "      <td>1</td>\n",
       "    </tr>\n",
       "    <tr>\n",
       "      <th>22</th>\n",
       "      <td>5</td>\n",
       "      <td>0</td>\n",
       "      <td>NaN</td>\n",
       "      <td>7</td>\n",
       "      <td>6</td>\n",
       "      <td>1</td>\n",
       "    </tr>\n",
       "    <tr>\n",
       "      <th>23</th>\n",
       "      <td>1</td>\n",
       "      <td>0</td>\n",
       "      <td>NaN</td>\n",
       "      <td>7</td>\n",
       "      <td>7</td>\n",
       "      <td>1</td>\n",
       "    </tr>\n",
       "    <tr>\n",
       "      <th>24</th>\n",
       "      <td>5</td>\n",
       "      <td>0</td>\n",
       "      <td>NaN</td>\n",
       "      <td>7</td>\n",
       "      <td>1</td>\n",
       "      <td>1</td>\n",
       "    </tr>\n",
       "  </tbody>\n",
       "</table>\n",
       "</div>"
      ],
      "text/plain": [
       "   V55 V58  V95 V145 V229 V246\n",
       "15   7   1    5    2    1    1\n",
       "16   7   1    5    2    1    1\n",
       "17   7   2    5    2    5    1\n",
       "18   7   0    7    2    1    1\n",
       "19   7   3    6    2    5    1\n",
       "20   5   0  NaN    7    6    1\n",
       "21   1   0  NaN    7    7    1\n",
       "22   5   0  NaN    7    6    1\n",
       "23   1   0  NaN    7    7    1\n",
       "24   5   0  NaN    7    1    1"
      ]
     },
     "execution_count": 74,
     "metadata": {},
     "output_type": "execute_result"
    }
   ],
   "source": [
    "wv.replace(['Missing', 'Unknown', 'Not asked', 'Not asked in suvey', 'Not applicable', 'No answer', 'Dont know'], np.nan, inplace=True)\n",
    "wv.replace(['BH','HT','RU','AR','DE','PS','SE', 'SG', 'TR', 'HT: Dropped out survey; RU: Inappropriate response{Inappropriate}', 'Not asked in survey', 'DE,SE:Inapplicable ; RU:Inappropriate response; HT: Dropped out survey{Inappropriate}'], np.nan, inplace=True)\n",
    "wv.replace({\"V55\":{\"No choice at all\" : 1, \"A great deal of choice\" : 10}}, inplace=True)\n",
    "wv.replace({\"V58\":{\"No children\" : 0, \"1 child\" : 1, \"2 children\" : 2, \"3 children\" : 3, \"4 children\" : 4, \"5 children\" : 5, \"6 children\" : 6, \"7 children\" : 7, \"8 or more children\" : 8}}, inplace=True)\n",
    "wv.replace({\"V95\":{\"Left\" : 1, \"Right\" : 10}}, inplace=True)\n",
    "wv.replace({\"V145\":{\"More than once a week\" : 1, \"Once a week\" : 2, \"Once a month\" : 3, \"Only on special holy days\" : 4, \"Once a year\" : 5, \"Less often\" : 6, \"Never, practically never\" : 7}}, inplace=True)\n",
    "wv.replace({\"V229\":{\"Full time\" : 1, \"Part time\" : 2, \"Self employed\" : 3, \"Retired\" : 4, \"Housewife\" : 5, \"Students\" : 6, \"Unemployed\" : 7, \"Other\" : 8}}, inplace=True)\n",
    "wv[15:25]"
   ]
  },
  {
   "cell_type": "code",
   "execution_count": 75,
   "metadata": {},
   "outputs": [
    {
     "data": {
      "text/plain": [
       "(60981, 6)"
      ]
     },
     "execution_count": 75,
     "metadata": {},
     "output_type": "execute_result"
    }
   ],
   "source": [
    "wv = wv.apply(pd.to_numeric)\n",
    "wv.dropna(inplace=True)\n",
    "wv.shape"
   ]
  },
  {
   "cell_type": "code",
   "execution_count": 76,
   "metadata": {},
   "outputs": [
    {
     "data": {
      "text/plain": [
       "V55     0\n",
       "V58     0\n",
       "V95     0\n",
       "V145    0\n",
       "V229    0\n",
       "V246    0\n",
       "dtype: int64"
      ]
     },
     "execution_count": 76,
     "metadata": {},
     "output_type": "execute_result"
    }
   ],
   "source": [
    "wv.isna().sum()"
   ]
  },
  {
   "cell_type": "code",
   "execution_count": 77,
   "metadata": {},
   "outputs": [
    {
     "name": "stdout",
     "output_type": "stream",
     "text": [
      "<class 'pandas.core.frame.DataFrame'>\n",
      "Int64Index: 60981 entries, 0 to 89564\n",
      "Data columns (total 6 columns):\n",
      " #   Column  Non-Null Count  Dtype  \n",
      "---  ------  --------------  -----  \n",
      " 0   V55     60981 non-null  float64\n",
      " 1   V58     60981 non-null  float64\n",
      " 2   V95     60981 non-null  float64\n",
      " 3   V145    60981 non-null  float64\n",
      " 4   V229    60981 non-null  float64\n",
      " 5   V246    60981 non-null  float64\n",
      "dtypes: float64(6)\n",
      "memory usage: 3.3 MB\n"
     ]
    }
   ],
   "source": [
    "wv.info()"
   ]
  },
  {
   "cell_type": "code",
   "execution_count": 78,
   "metadata": {},
   "outputs": [
    {
     "data": {
      "text/html": [
       "<div>\n",
       "<style scoped>\n",
       "    .dataframe tbody tr th:only-of-type {\n",
       "        vertical-align: middle;\n",
       "    }\n",
       "\n",
       "    .dataframe tbody tr th {\n",
       "        vertical-align: top;\n",
       "    }\n",
       "\n",
       "    .dataframe thead th {\n",
       "        text-align: right;\n",
       "    }\n",
       "</style>\n",
       "<table border=\"1\" class=\"dataframe\">\n",
       "  <thead>\n",
       "    <tr style=\"text-align: right;\">\n",
       "      <th></th>\n",
       "      <th>Freedom/Control</th>\n",
       "      <th>Number of Children</th>\n",
       "      <th>Political Scale</th>\n",
       "      <th>Religious Attendance</th>\n",
       "      <th>Employment status</th>\n",
       "      <th>Citizenship</th>\n",
       "    </tr>\n",
       "  </thead>\n",
       "  <tbody>\n",
       "    <tr>\n",
       "      <th>0</th>\n",
       "      <td>7.0</td>\n",
       "      <td>0.0</td>\n",
       "      <td>5.0</td>\n",
       "      <td>3.0</td>\n",
       "      <td>6.0</td>\n",
       "      <td>1.0</td>\n",
       "    </tr>\n",
       "    <tr>\n",
       "      <th>1</th>\n",
       "      <td>6.0</td>\n",
       "      <td>0.0</td>\n",
       "      <td>5.0</td>\n",
       "      <td>2.0</td>\n",
       "      <td>6.0</td>\n",
       "      <td>1.0</td>\n",
       "    </tr>\n",
       "    <tr>\n",
       "      <th>2</th>\n",
       "      <td>6.0</td>\n",
       "      <td>0.0</td>\n",
       "      <td>6.0</td>\n",
       "      <td>2.0</td>\n",
       "      <td>3.0</td>\n",
       "      <td>1.0</td>\n",
       "    </tr>\n",
       "    <tr>\n",
       "      <th>3</th>\n",
       "      <td>6.0</td>\n",
       "      <td>0.0</td>\n",
       "      <td>6.0</td>\n",
       "      <td>2.0</td>\n",
       "      <td>1.0</td>\n",
       "      <td>1.0</td>\n",
       "    </tr>\n",
       "    <tr>\n",
       "      <th>4</th>\n",
       "      <td>6.0</td>\n",
       "      <td>3.0</td>\n",
       "      <td>5.0</td>\n",
       "      <td>1.0</td>\n",
       "      <td>3.0</td>\n",
       "      <td>1.0</td>\n",
       "    </tr>\n",
       "  </tbody>\n",
       "</table>\n",
       "</div>"
      ],
      "text/plain": [
       "   Freedom/Control  Number of Children  Political Scale  Religious Attendance  \\\n",
       "0              7.0                 0.0              5.0                   3.0   \n",
       "1              6.0                 0.0              5.0                   2.0   \n",
       "2              6.0                 0.0              6.0                   2.0   \n",
       "3              6.0                 0.0              6.0                   2.0   \n",
       "4              6.0                 3.0              5.0                   1.0   \n",
       "\n",
       "   Employment status  Citizenship  \n",
       "0                6.0          1.0  \n",
       "1                6.0          1.0  \n",
       "2                3.0          1.0  \n",
       "3                1.0          1.0  \n",
       "4                3.0          1.0  "
      ]
     },
     "execution_count": 78,
     "metadata": {},
     "output_type": "execute_result"
    }
   ],
   "source": [
    "wv = wv.rename(columns = {\"V55\" : \"Freedom/Control\", \"V58\" : \"Number of Children\", \"V95\" : \"Political Scale\", \"V145\" : \"Religious Attendance\", \"V229\" : \"Employment status\", \"V246\" : \"Citizenship\"})\n",
    "wv.head()"
   ]
  },
  {
   "cell_type": "code",
   "execution_count": 79,
   "metadata": {},
   "outputs": [],
   "source": [
    "wv['Freedom/Control'] = wv['Freedom/Control'].astype('category')\n",
    "wv['Number of Children'] = wv['Number of Children'].astype('category')\n",
    "wv['Political Scale'] = wv['Political Scale'].astype('category')\n",
    "wv['Religious Attendance'] = wv['Religious Attendance'].astype('category')\n",
    "wv['Employment status'] = wv['Employment status'].astype('category')\n",
    "wv['Citizenship'] = wv['Citizenship'].astype('category')"
   ]
  },
  {
   "cell_type": "code",
   "execution_count": 100,
   "metadata": {},
   "outputs": [
    {
     "data": {
      "image/png": "[encoded data removed]",
      "text/plain": [
       "<Figure size 432x288 with 1 Axes>"
      ]
     },
     "metadata": {
      "needs_background": "light"
     },
     "output_type": "display_data"
    }
   ],
   "source": [
    "plt.hist(wv['Citizenship'], bins = 2)\n",
    "plt.show()"
   ]
  },
  {
   "cell_type": "code",
   "execution_count": 101,
   "metadata": {},
   "outputs": [
    {
     "data": {
      "text/plain": [
       "1.0    60123\n",
       "2.0      858\n",
       "Name: Citizenship, dtype: int64"
      ]
     },
     "execution_count": 101,
     "metadata": {},
     "output_type": "execute_result"
    }
   ],
   "source": [
    "wv['Citizenship'].value_counts()"
   ]
  },
  {
   "cell_type": "code",
   "execution_count": 80,
   "metadata": {},
   "outputs": [],
   "source": [
    "# split the original data frame into a train and test using the same random_state\n",
    "train_df, valid_df = train_test_split(wv, test_size=0.10, random_state=1)"
   ]
  },
  {
   "cell_type": "code",
   "execution_count": 81,
   "metadata": {},
   "outputs": [],
   "source": [
    "pd.set_option('precision', 3) # to get only 3 digit rounded numbers for probabilities"
   ]
  },
  {
   "cell_type": "markdown",
   "metadata": {},
   "source": [
    "Lets explore if we can predict citizenship using the responses above"
   ]
  },
  {
   "cell_type": "code",
   "execution_count": 82,
   "metadata": {},
   "outputs": [
    {
     "name": "stdout",
     "output_type": "stream",
     "text": [
      "1.0    0.986\n",
      "2.0    0.014\n",
      "Name: Citizenship, dtype: float64\n"
     ]
    }
   ],
   "source": [
    "# probability of citizenship\n",
    "print(train_df['Citizenship'].value_counts() / len(train_df))"
   ]
  },
  {
   "cell_type": "code",
   "execution_count": 83,
   "metadata": {},
   "outputs": [
    {
     "name": "stdout",
     "output_type": "stream",
     "text": [
      "Employment status    1.0    2.0    3.0    4.0    5.0    6.0    7.0    8.0\n",
      "Citizenship                                                              \n",
      "1.0                0.310  0.088  0.143  0.121  0.142  0.075  0.103  0.020\n",
      "2.0                0.363  0.102  0.108  0.161  0.085  0.057  0.111  0.013\n",
      "\n",
      "Religious Attendance    1.0    2.0    3.0    4.0    5.0    6.0    7.0\n",
      "Citizenship                                                          \n",
      "1.0                   0.153  0.204  0.105  0.165  0.053  0.108  0.212\n",
      "2.0                   0.102  0.179  0.086  0.166  0.070  0.132  0.265\n",
      "\n",
      "Political Scale   1.0    2.0    3.0    4.0    5.0    6.0    7.0    8.0   \\\n",
      "Citizenship                                                               \n",
      "1.0              0.071  0.035  0.063  0.072  0.287  0.134  0.102  0.098   \n",
      "2.0              0.065  0.046  0.070  0.095  0.312  0.163  0.093  0.073   \n",
      "\n",
      "Political Scale   9.0    10.0  \n",
      "Citizenship                    \n",
      "1.0              0.052  0.086  \n",
      "2.0              0.029  0.054  \n",
      "\n",
      "Number of Children    0.0    1.0    2.0    3.0    4.0    5.0    6.0    7.0  \\\n",
      "Citizenship                                                                  \n",
      "1.0                 0.301  0.163  0.251  0.143  0.069  0.034  0.017  0.009   \n",
      "2.0                 0.290  0.188  0.286  0.129  0.048  0.021  0.012  0.018   \n",
      "\n",
      "Number of Children    8.0  \n",
      "Citizenship                \n",
      "1.0                 0.011  \n",
      "2.0                 0.008  \n",
      "\n",
      "Freedom/Control   1.0    2.0    3.0    4.0    5.0    6.0    7.0    8.0   \\\n",
      "Citizenship                                                               \n",
      "1.0              0.028  0.013  0.028  0.041  0.119  0.120  0.167  0.195   \n",
      "2.0              0.021  0.020  0.035  0.057  0.136  0.134  0.172  0.178   \n",
      "\n",
      "Freedom/Control   9.0    10.0  \n",
      "Citizenship                    \n",
      "1.0              0.107  0.182  \n",
      "2.0              0.102  0.145  \n",
      "\n"
     ]
    }
   ],
   "source": [
    "predictors = ['Employment status', 'Religious Attendance', 'Political Scale', 'Number of Children', 'Freedom/Control']\n",
    "for predictor in predictors:\n",
    "    # construct the frequency table\n",
    "    df = train_df[['Citizenship', predictor]]\n",
    "    freqTable = df.pivot_table(index='Citizenship', columns=predictor, aggfunc=len)\n",
    "\n",
    "    # divide each row by the sum of the row to get conditional probabilities\n",
    "    propTable = freqTable.apply(lambda x: x / sum(x), axis=1)\n",
    "    print(propTable)\n",
    "    print()"
   ]
  },
  {
   "cell_type": "markdown",
   "metadata": {},
   "source": [
    "Executing Naive Bayes with Scikit-Learn"
   ]
  },
  {
   "cell_type": "code",
   "execution_count": 84,
   "metadata": {},
   "outputs": [],
   "source": [
    "predictors = ['Employment status', 'Religious Attendance', 'Political Scale', 'Number of Children', 'Freedom/Control']\n",
    "outcome = 'Citizenship'\n",
    "\n",
    "X = pd.get_dummies(wv[predictors])\n",
    "y = (wv[outcome] == 1).astype(int)\n",
    "classes = [1, 2]"
   ]
  },
  {
   "cell_type": "code",
   "execution_count": 85,
   "metadata": {},
   "outputs": [],
   "source": [
    "# split into training and validation\n",
    "X_train, X_valid, y_train, y_valid = train_test_split(X, y, test_size=0.10, random_state=1)"
   ]
  },
  {
   "cell_type": "code",
   "execution_count": 86,
   "metadata": {},
   "outputs": [
    {
     "data": {
      "text/plain": [
       "MultinomialNB(alpha=0.01, class_prior=None, fit_prior=True)"
      ]
     },
     "execution_count": 86,
     "metadata": {},
     "output_type": "execute_result"
    }
   ],
   "source": [
    "# run naive Bayes\n",
    "wv_nb = MultinomialNB(alpha=0.01)\n",
    "wv_nb.fit(X_train, y_train)"
   ]
  },
  {
   "cell_type": "code",
   "execution_count": 87,
   "metadata": {},
   "outputs": [
    {
     "name": "stdout",
     "output_type": "stream",
     "text": [
      "Confusion Matrix (Accuracy 0.9860)\n",
      "\n",
      "       Prediction\n",
      "Actual     1     2\n",
      "     1     0   766\n",
      "     2     0 54116\n"
     ]
    }
   ],
   "source": [
    "#Training performance\n",
    "y_train_pred = wv_nb.predict(X_train)\n",
    "classificationSummary(y_train, y_train_pred, class_names=classes)"
   ]
  },
  {
   "cell_type": "code",
   "execution_count": 88,
   "metadata": {},
   "outputs": [
    {
     "data": {
      "text/plain": [
       "<matplotlib.axes._subplots.AxesSubplot at 0x1a2adb8fd0>"
      ]
     },
     "execution_count": 88,
     "metadata": {},
     "output_type": "execute_result"
    },
    {
     "data": {
      "image/png": "[encoded data removed]",
      "text/plain": [
       "<Figure size 288x288 with 2 Axes>"
      ]
     },
     "metadata": {
      "needs_background": "light"
     },
     "output_type": "display_data"
    }
   ],
   "source": [
    "skplt.metrics.plot_confusion_matrix(y_train, y_train_pred, figsize=(4,4), cmap=\"Blues\")"
   ]
  },
  {
   "cell_type": "code",
   "execution_count": 89,
   "metadata": {},
   "outputs": [
    {
     "name": "stdout",
     "output_type": "stream",
     "text": [
      "Confusion Matrix (Accuracy 0.9849)\n",
      "\n",
      "       Prediction\n",
      "Actual    1    2\n",
      "     1    0   92\n",
      "     2    0 6007\n"
     ]
    }
   ],
   "source": [
    "#Testing performance\n",
    "y_valid_pred = wv_nb.predict(X_valid)\n",
    "classificationSummary(y_valid, y_valid_pred, class_names=classes)"
   ]
  },
  {
   "cell_type": "code",
   "execution_count": 90,
   "metadata": {},
   "outputs": [],
   "source": [
    "# predicting probabilities\n",
    "predProb_train = wv_nb.predict_proba(X_train)\n",
    "predProb_valid = wv_nb.predict_proba(X_valid)"
   ]
  },
  {
   "cell_type": "code",
   "execution_count": 91,
   "metadata": {},
   "outputs": [
    {
     "data": {
      "text/html": [
       "<div>\n",
       "<style scoped>\n",
       "    .dataframe tbody tr th:only-of-type {\n",
       "        vertical-align: middle;\n",
       "    }\n",
       "\n",
       "    .dataframe tbody tr th {\n",
       "        vertical-align: top;\n",
       "    }\n",
       "\n",
       "    .dataframe thead th {\n",
       "        text-align: right;\n",
       "    }\n",
       "</style>\n",
       "<table border=\"1\" class=\"dataframe\">\n",
       "  <thead>\n",
       "    <tr style=\"text-align: right;\">\n",
       "      <th></th>\n",
       "      <th>actual</th>\n",
       "      <th>p(0)</th>\n",
       "      <th>p(1)</th>\n",
       "      <th>predicted</th>\n",
       "    </tr>\n",
       "  </thead>\n",
       "  <tbody>\n",
       "    <tr>\n",
       "      <th>57595</th>\n",
       "      <td>1</td>\n",
       "      <td>0.020</td>\n",
       "      <td>0.980</td>\n",
       "      <td>1</td>\n",
       "    </tr>\n",
       "    <tr>\n",
       "      <th>82678</th>\n",
       "      <td>1</td>\n",
       "      <td>0.008</td>\n",
       "      <td>0.992</td>\n",
       "      <td>1</td>\n",
       "    </tr>\n",
       "    <tr>\n",
       "      <th>4869</th>\n",
       "      <td>1</td>\n",
       "      <td>0.022</td>\n",
       "      <td>0.978</td>\n",
       "      <td>1</td>\n",
       "    </tr>\n",
       "    <tr>\n",
       "      <th>83292</th>\n",
       "      <td>1</td>\n",
       "      <td>0.004</td>\n",
       "      <td>0.996</td>\n",
       "      <td>1</td>\n",
       "    </tr>\n",
       "    <tr>\n",
       "      <th>20793</th>\n",
       "      <td>1</td>\n",
       "      <td>0.016</td>\n",
       "      <td>0.984</td>\n",
       "      <td>1</td>\n",
       "    </tr>\n",
       "  </tbody>\n",
       "</table>\n",
       "</div>"
      ],
      "text/plain": [
       "       actual   p(0)   p(1)  predicted\n",
       "57595       1  0.020  0.980          1\n",
       "82678       1  0.008  0.992          1\n",
       "4869        1  0.022  0.978          1\n",
       "83292       1  0.004  0.996          1\n",
       "20793       1  0.016  0.984          1"
      ]
     },
     "execution_count": 91,
     "metadata": {},
     "output_type": "execute_result"
    }
   ],
   "source": [
    "nb_result_tr = pd.DataFrame({'actual': y_train, \n",
    "                             'p(0)': [p[0] for p in predProb_train],\n",
    "                             'p(1)': [p[1] for p in predProb_train],\n",
    "                             'predicted': y_train_pred})\n",
    "nb_result_tr.head()"
   ]
  },
  {
   "cell_type": "code",
   "execution_count": 92,
   "metadata": {},
   "outputs": [
    {
     "data": {
      "text/plain": [
       "(array([2.0000e+00, 5.0000e+00, 3.9000e+01, 1.8600e+02, 8.6700e+02,\n",
       "        3.0970e+03, 7.4370e+03, 1.3146e+04, 1.8996e+04, 1.1107e+04]),\n",
       " array([0.93706217, 0.94318927, 0.94931636, 0.95544346, 0.96157056,\n",
       "        0.96769765, 0.97382475, 0.97995184, 0.98607894, 0.99220604,\n",
       "        0.99833313]),\n",
       " <a list of 10 Patch objects>)"
      ]
     },
     "execution_count": 92,
     "metadata": {},
     "output_type": "execute_result"
    },
    {
     "data": {
      "image/png": "[encoded data removed]",
      "text/plain": [
       "<Figure size 432x288 with 1 Axes>"
      ]
     },
     "metadata": {
      "needs_background": "light"
     },
     "output_type": "display_data"
    }
   ],
   "source": [
    "plt.hist(predProb_train[:,1])"
   ]
  },
  {
   "cell_type": "code",
   "execution_count": 93,
   "metadata": {},
   "outputs": [],
   "source": [
    "# if we cut the probability values at 75%:\n",
    "ypredclass_tr2 = np.where(predProb_train[:,1] > 0.75, 1, 0)"
   ]
  },
  {
   "cell_type": "code",
   "execution_count": 94,
   "metadata": {},
   "outputs": [
    {
     "name": "stdout",
     "output_type": "stream",
     "text": [
      "Confusion Matrix (Accuracy 0.9860)\n",
      "\n",
      "       Prediction\n",
      "Actual     1     2\n",
      "     1     0   766\n",
      "     2     0 54116\n"
     ]
    }
   ],
   "source": [
    "#Training performance with new cutoff\n",
    "classificationSummary(y_train, ypredclass_tr2, class_names=classes)"
   ]
  },
  {
   "cell_type": "code",
   "execution_count": 95,
   "metadata": {},
   "outputs": [
    {
     "data": {
      "text/plain": [
       "<matplotlib.axes._subplots.AxesSubplot at 0x1a24d40190>"
      ]
     },
     "execution_count": 95,
     "metadata": {},
     "output_type": "execute_result"
    },
    {
     "data": {
      "image/png": "[encoded data removed]",
      "text/plain": [
       "<Figure size 288x288 with 2 Axes>"
      ]
     },
     "metadata": {
      "needs_background": "light"
     },
     "output_type": "display_data"
    }
   ],
   "source": [
    "skplt.metrics.plot_confusion_matrix(y_train, ypredclass_tr2, figsize=(4,4), cmap=\"Blues\")"
   ]
  },
  {
   "cell_type": "code",
   "execution_count": 96,
   "metadata": {},
   "outputs": [
    {
     "name": "stdout",
     "output_type": "stream",
     "text": [
      "Area under the curve (AUC):\n",
      " 0.5\n"
     ]
    },
    {
     "data": {
      "image/png": "[encoded data removed]",
      "text/plain": [
       "<Figure size 432x288 with 1 Axes>"
      ]
     },
     "metadata": {
      "needs_background": "light"
     },
     "output_type": "display_data"
    }
   ],
   "source": [
    "skplt.metrics.plot_roc(y_train, predProb_train)\n",
    "print(\"Area under the curve (AUC):\\n\", roc_auc_score(y_train, y_train_pred))"
   ]
  },
  {
   "cell_type": "code",
   "execution_count": 97,
   "metadata": {},
   "outputs": [
    {
     "data": {
      "image/png": "[encoded data removed]",
      "text/plain": [
       "<Figure size 720x288 with 2 Axes>"
      ]
     },
     "metadata": {
      "needs_background": "light"
     },
     "output_type": "display_data"
    }
   ],
   "source": [
    "dfgains = nb_result_tr.sort_values(by='p(1)', ascending=False)\n",
    "fig, axes = plt.subplots(nrows=1, ncols=2, figsize=(10, 4))\n",
    "\n",
    "gainsChart(dfgains.actual, ax=axes[0])\n",
    "liftChart(dfgains['p(1)'], title=False, ax=axes[1])\n",
    "    \n",
    "plt.tight_layout()\n",
    "plt.show()"
   ]
  },
  {
   "cell_type": "code",
   "execution_count": null,
   "metadata": {},
   "outputs": [],
   "source": []
  }
 ],
 "metadata": {
  "kernelspec": {
   "display_name": "Python 3",
   "language": "python",
   "name": "python3"
  },
  "language_info": {
   "codemirror_mode": {
    "name": "ipython",
    "version": 3
   },
   "file_extension": ".py",
   "mimetype": "text/x-python",
   "name": "python",
   "nbconvert_exporter": "python",
   "pygments_lexer": "ipython3",
   "version": "3.7.6"
  }
 },
 "nbformat": 4,
 "nbformat_minor": 4
}
