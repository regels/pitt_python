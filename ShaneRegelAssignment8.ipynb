{
 "cells": [
  {
   "cell_type": "code",
   "execution_count": 2,
   "metadata": {},
   "outputs": [
    {
     "name": "stdout",
     "output_type": "stream",
     "text": [
      "no display found. Using non-interactive Agg backend\n"
     ]
    }
   ],
   "source": [
    "import pandas as pd\n",
    "import numpy as np\n",
    "import scipy.stats as stats\n",
    "\n",
    "# for KNN:\n",
    "from sklearn.neighbors import NearestNeighbors\n",
    "from sklearn.neighbors import KNeighborsClassifier\n",
    "from sklearn.neighbors import KNeighborsRegressor\n",
    "\n",
    "#for model evaluation and pre-processing tools:\n",
    "import statsmodels.api as sm\n",
    "from sklearn import preprocessing\n",
    "from sklearn.model_selection import KFold\n",
    "from sklearn.metrics import mean_squared_error, r2_score\n",
    "from sklearn.metrics import confusion_matrix, classification_report, precision_score, \\\n",
    "                            accuracy_score, roc_curve, roc_auc_score\n",
    "from sklearn.model_selection import train_test_split, cross_validate, cross_val_score\n",
    "\n",
    "#for plotting confusion matrix:\n",
    "import scikitplot as skplt\n",
    "\n",
    "#utility tools of the DMBA book. \n",
    "from dmba import regressionSummary, exhaustive_search\n",
    "from dmba import backward_elimination, forward_selection, stepwise_selection\n",
    "from dmba import adjusted_r2_score, AIC_score, BIC_score\n",
    "from dmba import classificationSummary, gainsChart, liftChart\n",
    "\n",
    "# visualization and tuning the aesthetics\n",
    "import matplotlib.pylab as plt\n",
    "import seaborn as sns\n",
    "%matplotlib inline\n",
    "sns.set_style(\"whitegrid\")\n",
    "sns.set_context(\"notebook\", font_scale=1, rc={\"lines.linewidth\": 2,'font.family': [u'times']})\n",
    "plt.style.use('seaborn-whitegrid')\n",
    "plt.rc('text', usetex = False)\n",
    "plt.rc('font', family = 'serif')\n",
    "plt.rc('xtick', labelsize = 10) \n",
    "plt.rc('ytick', labelsize = 10) \n",
    "plt.rc('font', size = 12) \n",
    "plt.rc('figure', figsize = (6, 5))"
   ]
  },
  {
   "cell_type": "code",
   "execution_count": 3,
   "metadata": {},
   "outputs": [
    {
     "data": {
      "text/plain": [
       "(89565, 440)"
      ]
     },
     "execution_count": 3,
     "metadata": {},
     "output_type": "execute_result"
    }
   ],
   "source": [
    "pd.set_option(\"display.max_columns\", None)\n",
    "wv = pd.read_csv(\"worldvalues-data.csv\", dtype='object', na_values = ['-5', '-4', '-3', '-2', '-1'])\n",
    "wv.shape"
   ]
  },
  {
   "cell_type": "code",
   "execution_count": 4,
   "metadata": {},
   "outputs": [
    {
     "data": {
      "text/html": [
       "<div>\n",
       "<style scoped>\n",
       "    .dataframe tbody tr th:only-of-type {\n",
       "        vertical-align: middle;\n",
       "    }\n",
       "\n",
       "    .dataframe tbody tr th {\n",
       "        vertical-align: top;\n",
       "    }\n",
       "\n",
       "    .dataframe thead th {\n",
       "        text-align: right;\n",
       "    }\n",
       "</style>\n",
       "<table border=\"1\" class=\"dataframe\">\n",
       "  <thead>\n",
       "    <tr style=\"text-align: right;\">\n",
       "      <th></th>\n",
       "      <th>V55</th>\n",
       "      <th>V58</th>\n",
       "      <th>V95</th>\n",
       "      <th>V145</th>\n",
       "      <th>V229</th>\n",
       "      <th>V246</th>\n",
       "    </tr>\n",
       "  </thead>\n",
       "  <tbody>\n",
       "    <tr>\n",
       "      <th>count</th>\n",
       "      <td>88117</td>\n",
       "      <td>87898</td>\n",
       "      <td>68199</td>\n",
       "      <td>84720</td>\n",
       "      <td>88038</td>\n",
       "      <td>89558</td>\n",
       "    </tr>\n",
       "    <tr>\n",
       "      <th>unique</th>\n",
       "      <td>10</td>\n",
       "      <td>9</td>\n",
       "      <td>10</td>\n",
       "      <td>7</td>\n",
       "      <td>8</td>\n",
       "      <td>5</td>\n",
       "    </tr>\n",
       "    <tr>\n",
       "      <th>top</th>\n",
       "      <td>8</td>\n",
       "      <td>No children</td>\n",
       "      <td>5</td>\n",
       "      <td>7</td>\n",
       "      <td>Full time</td>\n",
       "      <td>1</td>\n",
       "    </tr>\n",
       "    <tr>\n",
       "      <th>freq</th>\n",
       "      <td>16646</td>\n",
       "      <td>26142</td>\n",
       "      <td>19838</td>\n",
       "      <td>20631</td>\n",
       "      <td>28036</td>\n",
       "      <td>79300</td>\n",
       "    </tr>\n",
       "  </tbody>\n",
       "</table>\n",
       "</div>"
      ],
      "text/plain": [
       "          V55          V58    V95   V145       V229   V246\n",
       "count   88117        87898  68199  84720      88038  89558\n",
       "unique     10            9     10      7          8      5\n",
       "top         8  No children      5      7  Full time      1\n",
       "freq    16646        26142  19838  20631      28036  79300"
      ]
     },
     "execution_count": 4,
     "metadata": {},
     "output_type": "execute_result"
    }
   ],
   "source": [
    "wv = wv[[\"V55\", \"V58\", \"V95\", \"V145\", \"V229\", \"V246\"]]\n",
    "wv.describe()"
   ]
  },
  {
   "cell_type": "code",
   "execution_count": 5,
   "metadata": {},
   "outputs": [
    {
     "data": {
      "text/html": [
       "<div>\n",
       "<style scoped>\n",
       "    .dataframe tbody tr th:only-of-type {\n",
       "        vertical-align: middle;\n",
       "    }\n",
       "\n",
       "    .dataframe tbody tr th {\n",
       "        vertical-align: top;\n",
       "    }\n",
       "\n",
       "    .dataframe thead th {\n",
       "        text-align: right;\n",
       "    }\n",
       "</style>\n",
       "<table border=\"1\" class=\"dataframe\">\n",
       "  <thead>\n",
       "    <tr style=\"text-align: right;\">\n",
       "      <th></th>\n",
       "      <th>V55</th>\n",
       "      <th>V58</th>\n",
       "      <th>V95</th>\n",
       "      <th>V145</th>\n",
       "      <th>V229</th>\n",
       "      <th>V246</th>\n",
       "    </tr>\n",
       "  </thead>\n",
       "  <tbody>\n",
       "    <tr>\n",
       "      <th>15</th>\n",
       "      <td>7</td>\n",
       "      <td>1</td>\n",
       "      <td>5</td>\n",
       "      <td>2</td>\n",
       "      <td>1</td>\n",
       "      <td>1</td>\n",
       "    </tr>\n",
       "    <tr>\n",
       "      <th>16</th>\n",
       "      <td>7</td>\n",
       "      <td>1</td>\n",
       "      <td>5</td>\n",
       "      <td>2</td>\n",
       "      <td>1</td>\n",
       "      <td>1</td>\n",
       "    </tr>\n",
       "    <tr>\n",
       "      <th>17</th>\n",
       "      <td>7</td>\n",
       "      <td>2</td>\n",
       "      <td>5</td>\n",
       "      <td>2</td>\n",
       "      <td>5</td>\n",
       "      <td>1</td>\n",
       "    </tr>\n",
       "    <tr>\n",
       "      <th>18</th>\n",
       "      <td>7</td>\n",
       "      <td>0</td>\n",
       "      <td>7</td>\n",
       "      <td>2</td>\n",
       "      <td>1</td>\n",
       "      <td>1</td>\n",
       "    </tr>\n",
       "    <tr>\n",
       "      <th>19</th>\n",
       "      <td>7</td>\n",
       "      <td>3</td>\n",
       "      <td>6</td>\n",
       "      <td>2</td>\n",
       "      <td>5</td>\n",
       "      <td>1</td>\n",
       "    </tr>\n",
       "    <tr>\n",
       "      <th>20</th>\n",
       "      <td>5</td>\n",
       "      <td>0</td>\n",
       "      <td>NaN</td>\n",
       "      <td>7</td>\n",
       "      <td>6</td>\n",
       "      <td>1</td>\n",
       "    </tr>\n",
       "    <tr>\n",
       "      <th>21</th>\n",
       "      <td>1</td>\n",
       "      <td>0</td>\n",
       "      <td>NaN</td>\n",
       "      <td>7</td>\n",
       "      <td>7</td>\n",
       "      <td>1</td>\n",
       "    </tr>\n",
       "    <tr>\n",
       "      <th>22</th>\n",
       "      <td>5</td>\n",
       "      <td>0</td>\n",
       "      <td>NaN</td>\n",
       "      <td>7</td>\n",
       "      <td>6</td>\n",
       "      <td>1</td>\n",
       "    </tr>\n",
       "    <tr>\n",
       "      <th>23</th>\n",
       "      <td>1</td>\n",
       "      <td>0</td>\n",
       "      <td>NaN</td>\n",
       "      <td>7</td>\n",
       "      <td>7</td>\n",
       "      <td>1</td>\n",
       "    </tr>\n",
       "    <tr>\n",
       "      <th>24</th>\n",
       "      <td>5</td>\n",
       "      <td>0</td>\n",
       "      <td>NaN</td>\n",
       "      <td>7</td>\n",
       "      <td>1</td>\n",
       "      <td>1</td>\n",
       "    </tr>\n",
       "  </tbody>\n",
       "</table>\n",
       "</div>"
      ],
      "text/plain": [
       "   V55 V58  V95 V145 V229 V246\n",
       "15   7   1    5    2    1    1\n",
       "16   7   1    5    2    1    1\n",
       "17   7   2    5    2    5    1\n",
       "18   7   0    7    2    1    1\n",
       "19   7   3    6    2    5    1\n",
       "20   5   0  NaN    7    6    1\n",
       "21   1   0  NaN    7    7    1\n",
       "22   5   0  NaN    7    6    1\n",
       "23   1   0  NaN    7    7    1\n",
       "24   5   0  NaN    7    1    1"
      ]
     },
     "execution_count": 5,
     "metadata": {},
     "output_type": "execute_result"
    }
   ],
   "source": [
    "wv.replace(['Missing', 'Unknown', 'Not asked', 'Not asked in suvey', 'Not applicable', 'No answer', 'Dont know'], np.nan, inplace=True)\n",
    "wv.replace(['BH','HT','RU','AR','DE','PS','SE', 'SG', 'TR', 'HT: Dropped out survey; RU: Inappropriate response{Inappropriate}', 'Not asked in survey', 'DE,SE:Inapplicable ; RU:Inappropriate response; HT: Dropped out survey{Inappropriate}'], np.nan, inplace=True)\n",
    "wv.replace({\"V55\":{\"No choice at all\" : 1, \"A great deal of choice\" : 10}}, inplace=True)\n",
    "wv.replace({\"V58\":{\"No children\" : 0, \"1 child\" : 1, \"2 children\" : 2, \"3 children\" : 3, \"4 children\" : 4, \"5 children\" : 5, \"6 children\" : 6, \"7 children\" : 7, \"8 or more children\" : 8}}, inplace=True)\n",
    "wv.replace({\"V95\":{\"Left\" : 1, \"Right\" : 10}}, inplace=True)\n",
    "wv.replace({\"V145\":{\"More than once a week\" : 1, \"Once a week\" : 2, \"Once a month\" : 3, \"Only on special holy days\" : 4, \"Once a year\" : 5, \"Less often\" : 6, \"Never, practically never\" : 7}}, inplace=True)\n",
    "wv.replace({\"V229\":{\"Full time\" : 1, \"Part time\" : 2, \"Self employed\" : 3, \"Retired\" : 4, \"Housewife\" : 5, \"Students\" : 6, \"Unemployed\" : 7, \"Other\" : 8}}, inplace=True)\n",
    "wv[15:25]"
   ]
  },
  {
   "cell_type": "code",
   "execution_count": 6,
   "metadata": {},
   "outputs": [
    {
     "data": {
      "text/plain": [
       "(60981, 6)"
      ]
     },
     "execution_count": 6,
     "metadata": {},
     "output_type": "execute_result"
    }
   ],
   "source": [
    "wv = wv.apply(pd.to_numeric)\n",
    "wv.dropna(inplace=True)\n",
    "wv.shape"
   ]
  },
  {
   "cell_type": "code",
   "execution_count": 7,
   "metadata": {},
   "outputs": [
    {
     "data": {
      "text/plain": [
       "V55     0\n",
       "V58     0\n",
       "V95     0\n",
       "V145    0\n",
       "V229    0\n",
       "V246    0\n",
       "dtype: int64"
      ]
     },
     "execution_count": 7,
     "metadata": {},
     "output_type": "execute_result"
    }
   ],
   "source": [
    "wv.isna().sum()"
   ]
  },
  {
   "cell_type": "code",
   "execution_count": 8,
   "metadata": {},
   "outputs": [
    {
     "name": "stdout",
     "output_type": "stream",
     "text": [
      "<class 'pandas.core.frame.DataFrame'>\n",
      "Int64Index: 60981 entries, 0 to 89564\n",
      "Data columns (total 6 columns):\n",
      " #   Column  Non-Null Count  Dtype  \n",
      "---  ------  --------------  -----  \n",
      " 0   V55     60981 non-null  float64\n",
      " 1   V58     60981 non-null  float64\n",
      " 2   V95     60981 non-null  float64\n",
      " 3   V145    60981 non-null  float64\n",
      " 4   V229    60981 non-null  float64\n",
      " 5   V246    60981 non-null  float64\n",
      "dtypes: float64(6)\n",
      "memory usage: 3.3 MB\n"
     ]
    }
   ],
   "source": [
    "wv.info()"
   ]
  },
  {
   "cell_type": "code",
   "execution_count": 9,
   "metadata": {},
   "outputs": [
    {
     "data": {
      "text/html": [
       "<div>\n",
       "<style scoped>\n",
       "    .dataframe tbody tr th:only-of-type {\n",
       "        vertical-align: middle;\n",
       "    }\n",
       "\n",
       "    .dataframe tbody tr th {\n",
       "        vertical-align: top;\n",
       "    }\n",
       "\n",
       "    .dataframe thead th {\n",
       "        text-align: right;\n",
       "    }\n",
       "</style>\n",
       "<table border=\"1\" class=\"dataframe\">\n",
       "  <thead>\n",
       "    <tr style=\"text-align: right;\">\n",
       "      <th></th>\n",
       "      <th>Freedom/Control</th>\n",
       "      <th>Number of Children</th>\n",
       "      <th>Political Scale</th>\n",
       "      <th>Religious Attendance</th>\n",
       "      <th>Employment status</th>\n",
       "      <th>Citizenship</th>\n",
       "    </tr>\n",
       "  </thead>\n",
       "  <tbody>\n",
       "    <tr>\n",
       "      <th>0</th>\n",
       "      <td>7.0</td>\n",
       "      <td>0.0</td>\n",
       "      <td>5.0</td>\n",
       "      <td>3.0</td>\n",
       "      <td>6.0</td>\n",
       "      <td>1.0</td>\n",
       "    </tr>\n",
       "    <tr>\n",
       "      <th>1</th>\n",
       "      <td>6.0</td>\n",
       "      <td>0.0</td>\n",
       "      <td>5.0</td>\n",
       "      <td>2.0</td>\n",
       "      <td>6.0</td>\n",
       "      <td>1.0</td>\n",
       "    </tr>\n",
       "    <tr>\n",
       "      <th>2</th>\n",
       "      <td>6.0</td>\n",
       "      <td>0.0</td>\n",
       "      <td>6.0</td>\n",
       "      <td>2.0</td>\n",
       "      <td>3.0</td>\n",
       "      <td>1.0</td>\n",
       "    </tr>\n",
       "    <tr>\n",
       "      <th>3</th>\n",
       "      <td>6.0</td>\n",
       "      <td>0.0</td>\n",
       "      <td>6.0</td>\n",
       "      <td>2.0</td>\n",
       "      <td>1.0</td>\n",
       "      <td>1.0</td>\n",
       "    </tr>\n",
       "    <tr>\n",
       "      <th>4</th>\n",
       "      <td>6.0</td>\n",
       "      <td>3.0</td>\n",
       "      <td>5.0</td>\n",
       "      <td>1.0</td>\n",
       "      <td>3.0</td>\n",
       "      <td>1.0</td>\n",
       "    </tr>\n",
       "  </tbody>\n",
       "</table>\n",
       "</div>"
      ],
      "text/plain": [
       "   Freedom/Control  Number of Children  Political Scale  Religious Attendance  \\\n",
       "0              7.0                 0.0              5.0                   3.0   \n",
       "1              6.0                 0.0              5.0                   2.0   \n",
       "2              6.0                 0.0              6.0                   2.0   \n",
       "3              6.0                 0.0              6.0                   2.0   \n",
       "4              6.0                 3.0              5.0                   1.0   \n",
       "\n",
       "   Employment status  Citizenship  \n",
       "0                6.0          1.0  \n",
       "1                6.0          1.0  \n",
       "2                3.0          1.0  \n",
       "3                1.0          1.0  \n",
       "4                3.0          1.0  "
      ]
     },
     "execution_count": 9,
     "metadata": {},
     "output_type": "execute_result"
    }
   ],
   "source": [
    "wv = wv.rename(columns = {\"V55\" : \"Freedom/Control\", \"V58\" : \"Number of Children\", \"V95\" : \"Political Scale\", \"V145\" : \"Religious Attendance\", \"V229\" : \"Employment status\", \"V246\" : \"Citizenship\"})\n",
    "wv.head()"
   ]
  },
  {
   "cell_type": "code",
   "execution_count": 10,
   "metadata": {},
   "outputs": [
    {
     "data": {
      "text/plain": [
       "<seaborn.axisgrid.PairGrid at 0x1a24b37450>"
      ]
     },
     "execution_count": 10,
     "metadata": {},
     "output_type": "execute_result"
    },
    {
     "data": {
      "image/png": "[encoded data removed]",
      "text/plain": [
       "<Figure size 900x180 with 5 Axes>"
      ]
     },
     "metadata": {},
     "output_type": "display_data"
    }
   ],
   "source": [
    "sns.pairplot(data=wv, y_vars=['Freedom/Control'], x_vars=['Number of Children', 'Political Scale', 'Religious Attendance', 'Employment status', 'Citizenship'])"
   ]
  },
  {
   "cell_type": "code",
   "execution_count": 11,
   "metadata": {},
   "outputs": [],
   "source": [
    "# First, scale the predictors and predicted variables:\n",
    "Xp=preprocessing.scale(wv[['Number of Children', 'Political Scale', 'Religious Attendance', 'Employment status', 'Citizenship']]).astype('float64')\n",
    "Yp=preprocessing.scale(wv['Freedom/Control']).astype('float64')#scaling"
   ]
  },
  {
   "cell_type": "code",
   "execution_count": 12,
   "metadata": {},
   "outputs": [
    {
     "name": "stdout",
     "output_type": "stream",
     "text": [
      "(45735, 5) (45735,)\n",
      "(15246, 5) (15246,)\n"
     ]
    }
   ],
   "source": [
    "# Set aside a portion (e.g., 25%) of data for out-of-training-sample testing.\n",
    "\n",
    "X3p_train, X3p_test, Y3p_train, Y3p_test = train_test_split(Xp, Yp, \\\n",
    "                                                            test_size=0.25, random_state=7)\n",
    "print(X3p_train.shape, Y3p_train.shape)\n",
    "print(X3p_test.shape, Y3p_test.shape)"
   ]
  },
  {
   "cell_type": "code",
   "execution_count": 14,
   "metadata": {},
   "outputs": [],
   "source": [
    "# Define the KNN model parameters\n",
    "knn_rcv = KNeighborsRegressor(n_neighbors=25, weights='uniform') \n",
    "# use 25 nearest neighbors weighted uniformly"
   ]
  },
  {
   "cell_type": "code",
   "execution_count": 15,
   "metadata": {},
   "outputs": [
    {
     "data": {
      "text/plain": [
       "KNeighborsRegressor(algorithm='auto', leaf_size=30, metric='minkowski',\n",
       "                    metric_params=None, n_jobs=None, n_neighbors=25, p=2,\n",
       "                    weights='uniform')"
      ]
     },
     "execution_count": 15,
     "metadata": {},
     "output_type": "execute_result"
    }
   ],
   "source": [
    "# fit the KNN model using training sample\n",
    "knn_rcv.fit(X3p_train, Y3p_train)"
   ]
  },
  {
   "cell_type": "code",
   "execution_count": 16,
   "metadata": {},
   "outputs": [],
   "source": [
    "# how does the model perform in training?\n",
    "knn_prediction_reg=knn_rcv.predict(X3p_train) \n",
    "#get the predictions using training data"
   ]
  },
  {
   "cell_type": "code",
   "execution_count": 17,
   "metadata": {},
   "outputs": [
    {
     "data": {
      "text/plain": [
       "0.96733458236475"
      ]
     },
     "execution_count": 17,
     "metadata": {},
     "output_type": "execute_result"
    }
   ],
   "source": [
    "np.sqrt(np.square(Y3p_train-knn_prediction_reg).mean()) \n",
    "#average error of prediction in training data."
   ]
  },
  {
   "cell_type": "code",
   "execution_count": 18,
   "metadata": {},
   "outputs": [
    {
     "data": {
      "text/plain": [
       "0.96733458236475"
      ]
     },
     "execution_count": 18,
     "metadata": {},
     "output_type": "execute_result"
    }
   ],
   "source": [
    "import statsmodels.api as sm\n",
    "sm.tools.eval_measures.rmse(Y3p_train, knn_prediction_reg, axis=0)"
   ]
  },
  {
   "cell_type": "code",
   "execution_count": 19,
   "metadata": {},
   "outputs": [
    {
     "name": "stdout",
     "output_type": "stream",
     "text": [
      "\n",
      "Regression statistics\n",
      "\n",
      "                      Mean Error (ME) : 0.0022\n",
      "       Root Mean Squared Error (RMSE) : 0.9673\n",
      "            Mean Absolute Error (MAE) : 0.7695\n",
      "          Mean Percentage Error (MPE) : 93.3010\n",
      "Mean Absolute Percentage Error (MAPE) : 136.0830\n"
     ]
    }
   ],
   "source": [
    "# We can also use this handy function from the DMBA package to print all the metrics in one go.\n",
    "regressionSummary(Y3p_train, knn_prediction_reg)"
   ]
  },
  {
   "cell_type": "code",
   "execution_count": null,
   "metadata": {},
   "outputs": [],
   "source": []
  }
 ],
 "metadata": {
  "kernelspec": {
   "display_name": "Python 3",
   "language": "python",
   "name": "python3"
  },
  "language_info": {
   "codemirror_mode": {
    "name": "ipython",
    "version": 3
   },
   "file_extension": ".py",
   "mimetype": "text/x-python",
   "name": "python",
   "nbconvert_exporter": "python",
   "pygments_lexer": "ipython3",
   "version": "3.7.6"
  }
 },
 "nbformat": 4,
 "nbformat_minor": 4
}
