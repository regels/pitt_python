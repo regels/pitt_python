{
 "cells": [
  {
   "cell_type": "markdown",
   "metadata": {},
   "source": [
    "# 1."
   ]
  },
  {
   "cell_type": "code",
   "execution_count": 22,
   "metadata": {},
   "outputs": [
    {
     "name": "stdout",
     "output_type": "stream",
     "text": [
      "Enter a number:\n",
      "1234567890\n",
      "Odd digits: 5 \n",
      "Even digits: 4 \n",
      "Zero digits: 1\n"
     ]
    }
   ],
   "source": [
    "print(\"Enter a number:\")\n",
    "number = input()\n",
    "zero = 0\n",
    "even = 0\n",
    "odd =0\n",
    "for x in number:\n",
    "    if int(x) == 0:\n",
    "        zero += 1\n",
    "    elif int(x)%2 == 0:\n",
    "        even += 1\n",
    "    else:\n",
    "        odd += 1\n",
    "print('''Odd digits: {} \n",
    "Even digits: {} \n",
    "Zero digits: {}'''.format(odd, even, zero))"
   ]
  },
  {
   "cell_type": "markdown",
   "metadata": {},
   "source": [
    "# 2."
   ]
  },
  {
   "cell_type": "code",
   "execution_count": 46,
   "metadata": {},
   "outputs": [
    {
     "name": "stdout",
     "output_type": "stream",
     "text": [
      "Enter a number:\n",
      "7\n",
      "[7, 22, 11, 34, 17, 52, 26, 13, 40, 20, 10, 5, 16, 8, 4, 2, 1, 4, 2, 1]\n"
     ]
    }
   ],
   "source": [
    "print(\"Enter a number:\")\n",
    "number = int(input())\n",
    "sequence = [number]\n",
    "while number != 1:\n",
    "    if number%2 == 0:\n",
    "        number = number / 2\n",
    "    else:\n",
    "        number = number * 3 + 1 \n",
    "    sequence.append(int(number))\n",
    "sequence.append(4)\n",
    "sequence.append(2)\n",
    "sequence.append(1)\n",
    "print(sequence)"
   ]
  },
  {
   "cell_type": "markdown",
   "metadata": {},
   "source": [
    "# 3."
   ]
  },
  {
   "cell_type": "code",
   "execution_count": 2,
   "metadata": {},
   "outputs": [
    {
     "name": "stdout",
     "output_type": "stream",
     "text": [
      "Enter a number: \n",
      "1\n",
      "Enter another number: \n",
      "8\n",
      "['1', '8', '9', '7', '6', '3', '9', '2', '1', '3', '4', '7', '1', '8']\n"
     ]
    }
   ],
   "source": [
    "print(\"Enter a number: \")\n",
    "num1 = input()\n",
    "print(\"Enter another number: \")\n",
    "num2 = input()\n",
    "\n",
    "necklace = [num1,num2]\n",
    "flag = False\n",
    "\n",
    "while flag == False:\n",
    "    temp = int(necklace[len(necklace) - 1]) + int(necklace[len(necklace) - 2]) \n",
    "    str_temp = (str(temp))\n",
    "    new = str_temp[len(str_temp)-1]\n",
    "    necklace.append(new)\n",
    "    if necklace[len(necklace) - 2] == num1 and necklace[len(necklace) - 1] == num2:\n",
    "        flag = True\n",
    "\n",
    "print(necklace)"
   ]
  },
  {
   "cell_type": "markdown",
   "metadata": {},
   "source": [
    "# 4."
   ]
  },
  {
   "cell_type": "code",
   "execution_count": 1,
   "metadata": {},
   "outputs": [
    {
     "name": "stdout",
     "output_type": "stream",
     "text": [
      "Enter a name: \n",
      "Shane\n",
      "Shane\n",
      "enahS\n",
      "Vowels: 2\n"
     ]
    }
   ],
   "source": [
    "print(\"Enter a name: \")\n",
    "name = input()\n",
    "vowels = 0\n",
    "\n",
    "for x in name:\n",
    "    if x == \"a\" or x == \"e\" or x ==\"i\" or x== \"o\" or x == \"u\":\n",
    "        vowels += 1\n",
    "\n",
    "print(name)\n",
    "print(\"\".join(list(reversed(name))))\n",
    "print(\"Vowels: {}\".format(vowels))"
   ]
  },
  {
   "cell_type": "markdown",
   "metadata": {},
   "source": [
    "# 5."
   ]
  },
  {
   "cell_type": "code",
   "execution_count": 14,
   "metadata": {},
   "outputs": [
    {
     "name": "stdout",
     "output_type": "stream",
     "text": [
      "Enter precipitation for January:\n",
      "1\n",
      "Enter precipitation for February:\n",
      "2\n",
      "Enter precipitation for March:\n",
      "3.3\n",
      "Enter precipitation for April:\n",
      "4\n",
      "Enter precipitation for May:\n",
      "5\n",
      "Enter precipitation for June:\n",
      "6\n",
      "Enter precipitation for July:\n",
      "7\n",
      "Enter precipitation for August:\n",
      "8\n",
      "Enter precipitation for September:\n",
      "9\n",
      "Enter precipitation for October:\n",
      "0\n",
      "Enter precipitation for November:\n",
      "1.2\n",
      "Enter precipitation for December:\n",
      "2\n",
      "Total Precipitation: 48.5 \n",
      "Monthly Average: 4.041666666666667 \n",
      "Lowest Month: October\n",
      "Highest Month: September\n"
     ]
    }
   ],
   "source": [
    "year = [\"January\",\"February\",\"March\",\"April\",\"May\",\"June\",\"July\",\"August\",\"September\",\"October\",\"November\",\"December\"]\n",
    "precip = []\n",
    "total = 0\n",
    "low = 1000000000000000000000000000000000000000000000000000000\n",
    "high = 0.00\n",
    "for x in year:\n",
    "    print(\"Enter precipitation for {}:\".format(x))\n",
    "    entry = float(input())\n",
    "    precip.append(entry)\n",
    "    total += entry\n",
    "    if entry < low:\n",
    "        low = entry\n",
    "        lowest = x\n",
    "    if entry > high:\n",
    "        high = entry\n",
    "        highest = x\n",
    "avg = total / 12\n",
    "print('''Total Precipitation: {} \n",
    "Monthly Average: {} \n",
    "Lowest Month: {}\n",
    "Highest Month: {}'''.format(total, avg, lowest, highest))"
   ]
  },
  {
   "cell_type": "markdown",
   "metadata": {},
   "source": [
    "# 6."
   ]
  },
  {
   "cell_type": "code",
   "execution_count": 1,
   "metadata": {},
   "outputs": [
    {
     "name": "stdout",
     "output_type": "stream",
     "text": [
      "Choose Rock, Paper, Scissors, or enter Q to quit playing\n",
      "R\n",
      "Invalid entry\n",
      "Choose Rock, Paper, Scissors, or enter Q to quit playing\n",
      "Rock\n",
      "Computer picked Scissors. You win!\n",
      "Choose Rock, Paper, Scissors, or enter Q to quit playing\n",
      "Paper\n",
      "Computer picked Scissors. You lose.\n",
      "Choose Rock, Paper, Scissors, or enter Q to quit playing\n",
      "Scissors\n",
      "Computer picked Paper. You win!\n",
      "Choose Rock, Paper, Scissors, or enter Q to quit playing\n",
      "Q\n",
      "Thanks for playing!\n"
     ]
    }
   ],
   "source": [
    "import random as r\n",
    "\n",
    "quit = False\n",
    "options = [\"Rock\",\"Paper\",\"Scissors\"]\n",
    "\n",
    "while quit == False:\n",
    "    print(\"Choose Rock, Paper, Scissors, or enter Q to quit playing\")\n",
    "    player = input()\n",
    "    if player == \"Rock\" or player == \"Paper\" or player == \"Scissors\" or player == \"Q\":\n",
    "        computer = options[r.randrange(3)]\n",
    "        if player == \"Q\":\n",
    "            quit = True\n",
    "        elif player == \"Rock\":\n",
    "            if computer == \"Rock\":\n",
    "                print(\"Computer picked Rock. It is a tie.\")\n",
    "            elif computer == \"Paper\":\n",
    "                print(\"Computer picked Paper. You lose.\")\n",
    "            elif computer == \"Scissors\":\n",
    "                print(\"Computer picked Scissors. You win!\")\n",
    "        elif player == \"Paper\":\n",
    "            if computer == \"Rock\":\n",
    "                print(\"Computer picked Rock. You win!\")\n",
    "            elif computer == \"Paper\":\n",
    "                print(\"Computer picked Paper. It is a tie.\")\n",
    "            elif computer == \"Scissors\":\n",
    "                print(\"Computer picked Scissors. You lose.\")\n",
    "        elif player == \"Scissors\":\n",
    "            if computer == \"Rock\":\n",
    "                print(\"Computer picked Rock. You lose.\")\n",
    "            elif computer == \"Paper\":\n",
    "                print(\"Computer picked Paper. You win!\")\n",
    "            elif computer == \"Scissors\":\n",
    "                print(\"Computer picked Scissors. It is a tie.\")\n",
    "    else:\n",
    "         print(\"Invalid entry\")\n",
    "print(\"Thanks for playing!\")"
   ]
  }
 ],
 "metadata": {
  "kernelspec": {
   "display_name": "Python 3",
   "language": "python",
   "name": "python3"
  },
  "language_info": {
   "codemirror_mode": {
    "name": "ipython",
    "version": 3
   },
   "file_extension": ".py",
   "mimetype": "text/x-python",
   "name": "python",
   "nbconvert_exporter": "python",
   "pygments_lexer": "ipython3",
   "version": "3.7.6"
  }
 },
 "nbformat": 4,
 "nbformat_minor": 4
}
